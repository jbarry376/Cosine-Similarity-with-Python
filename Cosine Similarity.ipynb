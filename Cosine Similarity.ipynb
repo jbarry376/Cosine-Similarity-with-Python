{
 "cells": [
  {
   "cell_type": "markdown",
   "metadata": {},
   "source": [
    "# Cosine Similarity with Python #\n",
    "\n",
    "## Math Foundations ##\n",
    "\n",
    "<p>Cosine Similarity (a.k.a. Cosine Distance) is a measure of similarity between vectors. I recently came across using Cosine Similarity in a lecture about Recommender Systems in Data Science. </p>\n",
    "    \n",
    "<p>The mathematics behind Cosine Similarity is pretty straight forward (thank goodness!) and we will only need to be super familiar with the dot product between two vectors. Hopefully we all payed attention in pre-calculus. If you are one of the lucky ones that took a vector calculus course, I hope you weren't surprised when the mighty dot product showed up again.</p>\n",
    "\n",
    "### Dot Product Formula ###\n",
    "\n",
    "<p>$$ \\vec{A} \\, \\cdot \\, \\vec{B} = \\, \\parallel\\vec{A} \\parallel \\parallel\\vec{B}\\parallel\\cos(\\theta)$$\n",
    "</p>    \n",
    "    \n",
    "<p> The formula can be rearranged to give us the angle between the vectors:</p>\n",
    "    \n",
    "<p> $$ Similarity = \\cos(\\theta) = \\frac{\\vec{A} \\, \\cdot \\, \\vec{B}}{\\parallel\\vec{A} \\parallel \\parallel\\vec{B}\\parallel} $$ </p>\n",
    "    \n",
    "\n"
   ]
  },
  {
   "cell_type": "markdown",
   "metadata": {},
   "source": [
    "### Pop Quiz ###\n",
    "**Q:** what is the Range of the cosine function?<br>\n",
    "**A:** [-1,1]\n",
    "\n",
    "<p>From the pop quiz, we get that the values of the cosine similarity will be between -1 and 1. That is, the most similar vectors will have values closer to one and the least similar vectors will have cosine similarity values closer to negative one. For those who think and dream in vectors, this a good stopping point - take a well earned break and enjoy your new insight. </p>\n",
    "\n",
    "<p>For everyone that's still with me, let's put together a cool example of how to actually <b>APPLY</b> Cosine Similarity. </p>"
   ]
  },
  {
   "cell_type": "markdown",
   "metadata": {},
   "source": [
    "## Movie Reviews ##\n",
    "<p>Our example will focus on movie reviews and determining if different reviewers have similar taste in movies. How are we going to quantify these similarities? Bingo - Cosine Similarity </p>\n",
    "    \n",
    "<p>Here is a table of our movie reviewers and their respective ratings. The ratings are from 0 to 5 out of 5 and an empty rating indicates they did not rate that title.The data is made up and I picked a few movies from 2020</p>\n",
    "\n",
    "<table>\n",
    "<thead>\n",
    "<tr>\n",
    "    <th>Reviewer Name</th>\n",
    "    <th>Tenet (2020)</th>\n",
    "    <th>Mulan (2020)</th>\n",
    "    <th>Soul (2020)</th>\n",
    "    <th>Wonder Woman 1984 (2020)</th>\n",
    "    <th>The Invisilble Man (2020)</th>\n",
    "</tr>\n",
    "</thead>\n",
    "<tbody>\n",
    "<tr>\n",
    "    <td>Alice</td>\n",
    "    <td></td>\n",
    "    <td>5</td>\n",
    "    <td>4</td>\n",
    "    <td>5</td>\n",
    "    <td></td>\n",
    "</tr>\n",
    "<tr>\n",
    "    <td>Bob</td>\n",
    "    <td>5</td>\n",
    "    <td>2</td>\n",
    "    <td>1</td>\n",
    "    <td></td>\n",
    "    <td></td>\n",
    "</tr>\n",
    "<tr>\n",
    "    <td>Charlie</td>\n",
    "    <td>5</td>\n",
    "    <td>5</td>\n",
    "    <td></td>\n",
    "    <td></td>\n",
    "    <td>2</td>\n",
    "</tr>\n",
    "<tr>\n",
    "    <td>Drake</td>\n",
    "    <td>1</td>\n",
    "    <td></td>\n",
    "    <td>5</td>\n",
    "    <td>2</td>\n",
    "    <td>5</td>\n",
    "</tr>    \n",
    "</tbody>\n",
    "</table>\n",
    "\n",
    "<p><a href=\"https://www.youtube.com/watch?v=xOsLIiBStEs&ab_channel=Pixar\" title=\"Optional Title\">Soul Trailer</a></p>\n"
   ]
  },
  {
   "cell_type": "markdown",
   "metadata": {},
   "source": [
    "## Python Code ##\n",
    "<p>Let's import our modules and declare the our reviews as vectors</p>"
   ]
  },
  {
   "cell_type": "code",
   "execution_count": 1,
   "metadata": {},
   "outputs": [
    {
     "name": "stdout",
     "output_type": "stream",
     "text": [
      "Numpy 1.19.5 \n",
      "Pandas 0.25.1\n"
     ]
    }
   ],
   "source": [
    "import numpy as np\n",
    "import pandas as pd\n",
    "\n",
    "#printing module versions\n",
    "print('Numpy %s \\nPandas %s' % (np.__version__, pd.__version__))\n",
    "\n",
    "#numpy arrays for our review vectors\n",
    "#empty reviews are entered as numpy null values \n",
    "alice   = np.array([np.nan , 5, 4, 5,np.nan ])\n",
    "bob     = np.array([5, 2, 1,np.nan, np.nan])\n",
    "charlie = np.array([5, 5, np.nan, np.nan, 2])\n",
    "drake   = np.array([1, np.nan, 5, 2, 5])\n"
   ]
  },
  {
   "cell_type": "code",
   "execution_count": 2,
   "metadata": {},
   "outputs": [
    {
     "data": {
      "text/html": [
       "<div>\n",
       "<style scoped>\n",
       "    .dataframe tbody tr th:only-of-type {\n",
       "        vertical-align: middle;\n",
       "    }\n",
       "\n",
       "    .dataframe tbody tr th {\n",
       "        vertical-align: top;\n",
       "    }\n",
       "\n",
       "    .dataframe thead th {\n",
       "        text-align: right;\n",
       "    }\n",
       "</style>\n",
       "<table border=\"1\" class=\"dataframe\">\n",
       "  <thead>\n",
       "    <tr style=\"text-align: right;\">\n",
       "      <th></th>\n",
       "      <th>Tenet</th>\n",
       "      <th>Mulan</th>\n",
       "      <th>Soul</th>\n",
       "      <th>WW1984</th>\n",
       "      <th>InvisbleMan</th>\n",
       "    </tr>\n",
       "  </thead>\n",
       "  <tbody>\n",
       "    <tr>\n",
       "      <td>alice</td>\n",
       "      <td>NaN</td>\n",
       "      <td>5.0</td>\n",
       "      <td>4.0</td>\n",
       "      <td>5.0</td>\n",
       "      <td>NaN</td>\n",
       "    </tr>\n",
       "    <tr>\n",
       "      <td>bob</td>\n",
       "      <td>5.0</td>\n",
       "      <td>2.0</td>\n",
       "      <td>1.0</td>\n",
       "      <td>NaN</td>\n",
       "      <td>NaN</td>\n",
       "    </tr>\n",
       "    <tr>\n",
       "      <td>charlie</td>\n",
       "      <td>5.0</td>\n",
       "      <td>5.0</td>\n",
       "      <td>NaN</td>\n",
       "      <td>NaN</td>\n",
       "      <td>2.0</td>\n",
       "    </tr>\n",
       "    <tr>\n",
       "      <td>drake</td>\n",
       "      <td>1.0</td>\n",
       "      <td>NaN</td>\n",
       "      <td>5.0</td>\n",
       "      <td>2.0</td>\n",
       "      <td>5.0</td>\n",
       "    </tr>\n",
       "  </tbody>\n",
       "</table>\n",
       "</div>"
      ],
      "text/plain": [
       "         Tenet  Mulan  Soul  WW1984  InvisbleMan\n",
       "alice      NaN    5.0   4.0     5.0          NaN\n",
       "bob        5.0    2.0   1.0     NaN          NaN\n",
       "charlie    5.0    5.0   NaN     NaN          2.0\n",
       "drake      1.0    NaN   5.0     2.0          5.0"
      ]
     },
     "execution_count": 2,
     "metadata": {},
     "output_type": "execute_result"
    }
   ],
   "source": [
    "#making a pandas dataframe for our data \n",
    "\n",
    "#column and index names\n",
    "col_names = [ 'Tenet', 'Mulan', 'Soul', 'WW1984', 'InvisbleMan']\n",
    "index_names = ['alice', 'bob', 'charlie', 'drake']\n",
    "\n",
    "df = pd.DataFrame([alice, bob, charlie, drake], \n",
    "                  index = index_names , columns = col_names)\n",
    "df"
   ]
  },
  {
   "cell_type": "markdown",
   "metadata": {},
   "source": [
    "<p>Now we need a way to take care of the missing ratings. If we simply treated them as zero ratings then this would imply that the reviewer gave a negative rating. <br> Instead, we can normalize the ratings by subtracting the row mean. </p>\n",
    "<p>For Alice, the mean rating is 14/3 (4.667). If we subtract the 14/3 from each of Alice's ratings we'll get:</p>\n",
    "<table>\n",
    "<thead>\n",
    "<tr>\n",
    "    <th>Reviewer Name</th>\n",
    "    <th>Tenet (2020)</th>\n",
    "    <th>Mulan (2020)</th>\n",
    "    <th>Soul (2020)</th>\n",
    "    <th>Wonder Woman 1984 (2020)</th>\n",
    "    <th>The Invisilble Man (2020)</th>\n",
    "</tr>\n",
    "</thead>\n",
    "<tbody>\n",
    "<tr>\n",
    "    <td>Alice</td>\n",
    "    <td></td>\n",
    "    <td>1/3</td>\n",
    "    <td>-2/3</td>\n",
    "    <td>1/3</td>\n",
    "    <td></td>\n",
    "</tr>\n",
    "</tbody>\n",
    "</table>\n",
    "\n",
    "<p> This tells us which movies Alice liked above average and we can give the unreviewed movies values of zero.</p>\n",
    "<p> Following this same process for our other reviewers we get: </p>\n",
    "    \n",
    "<table>\n",
    "<thead>\n",
    "<tr>\n",
    "    <th>Reviewer Name</th>\n",
    "    <th>Tenet (2020)</th>\n",
    "    <th>Mulan (2020)</th>\n",
    "    <th>Soul (2020)</th>\n",
    "    <th>Wonder Woman 1984 (2020)</th>\n",
    "    <th>The Invisilble Man (2020)</th>\n",
    "</tr>\n",
    "</thead>\n",
    "<tbody>\n",
    "<tr>\n",
    "    <td>Alice</td>\n",
    "    <td>0</td>\n",
    "    <td>1/3</td>\n",
    "    <td>-2/3</td>\n",
    "    <td>1/3</td>\n",
    "    <td>0</td>\n",
    "</tr>\n",
    "<tr>\n",
    "    <td>Bob</td>\n",
    "    <td>7/3</td>\n",
    "    <td>-2/3</td>\n",
    "    <td>-5/3</td>\n",
    "    <td>0</td>\n",
    "    <td>0</td>\n",
    "</tr>\n",
    "<tr>\n",
    "    <td>Charlie</td>\n",
    "    <td>1</td>\n",
    "    <td>1</td>\n",
    "    <td>0</td>\n",
    "    <td>0</td>\n",
    "    <td>-2</td>\n",
    "</tr>\n",
    "<tr>\n",
    "    <td>Drake</td>\n",
    "    <td>-9/4</td>\n",
    "    <td>0</td>\n",
    "    <td>7/4</td>\n",
    "    <td>-5/4</td>\n",
    "    <td>7/4</td>\n",
    "</tr>    \n",
    "</tbody>\n",
    "</table>\n"
   ]
  },
  {
   "cell_type": "code",
   "execution_count": 3,
   "metadata": {},
   "outputs": [],
   "source": [
    "# adjusting our dataframe to normalize and center the row vectors \n",
    "\n",
    "for name in df.index:\n",
    "    df.loc[name] = df.loc[name] - df.loc[name].mean(skipna = True)\n",
    "    \n"
   ]
  },
  {
   "cell_type": "code",
   "execution_count": 4,
   "metadata": {},
   "outputs": [
    {
     "data": {
      "text/html": [
       "<div>\n",
       "<style scoped>\n",
       "    .dataframe tbody tr th:only-of-type {\n",
       "        vertical-align: middle;\n",
       "    }\n",
       "\n",
       "    .dataframe tbody tr th {\n",
       "        vertical-align: top;\n",
       "    }\n",
       "\n",
       "    .dataframe thead th {\n",
       "        text-align: right;\n",
       "    }\n",
       "</style>\n",
       "<table border=\"1\" class=\"dataframe\">\n",
       "  <thead>\n",
       "    <tr style=\"text-align: right;\">\n",
       "      <th></th>\n",
       "      <th>Tenet</th>\n",
       "      <th>Mulan</th>\n",
       "      <th>Soul</th>\n",
       "      <th>WW1984</th>\n",
       "      <th>InvisbleMan</th>\n",
       "    </tr>\n",
       "  </thead>\n",
       "  <tbody>\n",
       "    <tr>\n",
       "      <td>alice</td>\n",
       "      <td>0.000000</td>\n",
       "      <td>0.333333</td>\n",
       "      <td>-0.666667</td>\n",
       "      <td>0.333333</td>\n",
       "      <td>0.00</td>\n",
       "    </tr>\n",
       "    <tr>\n",
       "      <td>bob</td>\n",
       "      <td>2.333333</td>\n",
       "      <td>-0.666667</td>\n",
       "      <td>-1.666667</td>\n",
       "      <td>0.000000</td>\n",
       "      <td>0.00</td>\n",
       "    </tr>\n",
       "    <tr>\n",
       "      <td>charlie</td>\n",
       "      <td>1.000000</td>\n",
       "      <td>1.000000</td>\n",
       "      <td>0.000000</td>\n",
       "      <td>0.000000</td>\n",
       "      <td>-2.00</td>\n",
       "    </tr>\n",
       "    <tr>\n",
       "      <td>drake</td>\n",
       "      <td>-2.250000</td>\n",
       "      <td>0.000000</td>\n",
       "      <td>1.750000</td>\n",
       "      <td>-1.250000</td>\n",
       "      <td>1.75</td>\n",
       "    </tr>\n",
       "  </tbody>\n",
       "</table>\n",
       "</div>"
      ],
      "text/plain": [
       "            Tenet     Mulan      Soul    WW1984  InvisbleMan\n",
       "alice    0.000000  0.333333 -0.666667  0.333333         0.00\n",
       "bob      2.333333 -0.666667 -1.666667  0.000000         0.00\n",
       "charlie  1.000000  1.000000  0.000000  0.000000        -2.00\n",
       "drake   -2.250000  0.000000  1.750000 -1.250000         1.75"
      ]
     },
     "execution_count": 4,
     "metadata": {},
     "output_type": "execute_result"
    }
   ],
   "source": [
    "#replacing the nan values with zero\n",
    "df.fillna(0, inplace = True)\n",
    "df"
   ]
  },
  {
   "cell_type": "markdown",
   "metadata": {},
   "source": [
    "##  Cosine Similarity Function #### \n",
    "<p>Note: The maginitude of a vector is the same as the square root of the vector dot product with itself</p>\n",
    "<p> $$ \\parallel \\vec{b} \\parallel = \\sqrt{ \\vec{b} \\cdot \\vec{b}} $$ </p>\n",
    "<p> $$ Similarity = \\cos(\\theta) = \\frac{\\vec{a} \\, \\cdot \\, \\vec{b}}{\\parallel\\vec{a} \\parallel \\parallel\\vec{b}\\parallel} $$ </p>"
   ]
  },
  {
   "cell_type": "code",
   "execution_count": 5,
   "metadata": {},
   "outputs": [],
   "source": [
    "def cos_similarity(a, b):\n",
    "    #magnitude of each vector \n",
    "    a_mag = np.sqrt(np.dot(a,a))\n",
    "    b_mag = np.sqrt(np.dot(b,b))\n",
    "    \n",
    "    return (np.dot(a,b))/(a_mag*b_mag)"
   ]
  },
  {
   "cell_type": "markdown",
   "metadata": {},
   "source": [
    "<p>Let's loop through all the pairs of reviewers and see what we get... </p>"
   ]
  },
  {
   "cell_type": "code",
   "execution_count": 6,
   "metadata": {},
   "outputs": [
    {
     "name": "stdout",
     "output_type": "stream",
     "text": [
      "Alice and Bob are 0.3698 similar\n",
      "\n",
      "\n",
      "Alice and Charlie are 0.16667 similar\n",
      "\n",
      "\n",
      "Alice and Drake are -0.54308 similar\n",
      "\n",
      "\n",
      "Bob and Charlie are 0.23113 similar\n",
      "\n",
      "\n",
      "Bob and Drake are -0.7769 similar\n",
      "\n",
      "\n",
      "Charlie and Drake are -0.65741 similar\n",
      "\n",
      "\n"
     ]
    }
   ],
   "source": [
    "pairs = [['alice', 'bob'], ['alice', 'charlie'], ['alice', 'drake'], \n",
    "         ['bob', 'charlie'], ['bob', 'drake'],['charlie', 'drake']]\n",
    "\n",
    "for pair in pairs:\n",
    "    v1 = df.loc[pair[0]]\n",
    "    v2 = df.loc[pair[1]]\n",
    "    print('{} and {} are {} similar'.format(pair[0].title(), pair[1].title(), \n",
    "                                            round(cos_similarity(v1,v2),5)))\n",
    "    print('\\n')"
   ]
  },
  {
   "cell_type": "markdown",
   "metadata": {},
   "source": [
    "### Do Our Results Make Sense? ###\n",
    "<p>Let's look at our original ratings table again:</p>\n",
    "<table>\n",
    "<thead>\n",
    "<tr>\n",
    "    <th>Reviewer Name</th>\n",
    "    <th>Tenet (2020)</th>\n",
    "    <th>Mulan (2020)</th>\n",
    "    <th>Soul (2020)</th>\n",
    "    <th>Wonder Woman 1984 (2020)</th>\n",
    "    <th>The Invisilble Man (2020)</th>\n",
    "</tr>\n",
    "</thead>\n",
    "<tbody>\n",
    "<tr>\n",
    "    <td>Alice</td>\n",
    "    <td></td>\n",
    "    <td>5</td>\n",
    "    <td>4</td>\n",
    "    <td>5</td>\n",
    "    <td></td>\n",
    "</tr>\n",
    "<tr>\n",
    "    <td>Bob</td>\n",
    "    <td>5</td>\n",
    "    <td>2</td>\n",
    "    <td>1</td>\n",
    "    <td></td>\n",
    "    <td></td>\n",
    "</tr>\n",
    "<tr>\n",
    "    <td>Charlie</td>\n",
    "    <td>5</td>\n",
    "    <td>5</td>\n",
    "    <td></td>\n",
    "    <td></td>\n",
    "    <td>2</td>\n",
    "</tr>\n",
    "<tr>\n",
    "    <td>Drake</td>\n",
    "    <td>1</td>\n",
    "    <td></td>\n",
    "    <td>5</td>\n",
    "    <td>2</td>\n",
    "    <td>5</td>\n",
    "</tr>    \n",
    "</tbody>\n",
    "</table>\n",
    "\n",
    "<p> <b>Most Similar</b> </p>\n",
    "<p> Alice and Bob are ranked the most similar at 0.3698. This isn't a very strong similarity and we can only see that Alice and Bob rated Soul (2020) as their lowest out of the movies each of them rated. </p>\n",
    "\n",
    "<p> <b>Least Similar</b></p>\n",
    "\n",
    "<p> Bob and Drake are the least similar pair at -0.7769. Bob rated Tenet (2020) the highest with 5/5 and Drake rated the same film 1/5. This least similar pair is pretty clear and we can see that Bob liked almost all the movies Drake didn't like. </p>"
   ]
  },
  {
   "cell_type": "markdown",
   "metadata": {},
   "source": [
    "## Shortcut with sklearn.metrics ##\n",
    "\n",
    "<p> Now that we know the inner workings of Cosine Similarity, we can use Python moduels to perform the same function and not have to build things from scratch each time. <br>The sklearn.metrics module has it's own cosine_similarity function that we can import and use </p>\n"
   ]
  },
  {
   "cell_type": "code",
   "execution_count": 7,
   "metadata": {},
   "outputs": [],
   "source": [
    "from sklearn.metrics.pairwise import cosine_similarity"
   ]
  },
  {
   "cell_type": "markdown",
   "metadata": {},
   "source": [
    "<p>The function cannot process NaN values <br> We will use the normalized ratings we have used up to this point</p>"
   ]
  },
  {
   "cell_type": "code",
   "execution_count": 8,
   "metadata": {},
   "outputs": [
    {
     "data": {
      "text/html": [
       "<div>\n",
       "<style scoped>\n",
       "    .dataframe tbody tr th:only-of-type {\n",
       "        vertical-align: middle;\n",
       "    }\n",
       "\n",
       "    .dataframe tbody tr th {\n",
       "        vertical-align: top;\n",
       "    }\n",
       "\n",
       "    .dataframe thead th {\n",
       "        text-align: right;\n",
       "    }\n",
       "</style>\n",
       "<table border=\"1\" class=\"dataframe\">\n",
       "  <thead>\n",
       "    <tr style=\"text-align: right;\">\n",
       "      <th></th>\n",
       "      <th>Tenet</th>\n",
       "      <th>Mulan</th>\n",
       "      <th>Soul</th>\n",
       "      <th>WW1984</th>\n",
       "      <th>InvisbleMan</th>\n",
       "    </tr>\n",
       "  </thead>\n",
       "  <tbody>\n",
       "    <tr>\n",
       "      <td>alice</td>\n",
       "      <td>0.000000</td>\n",
       "      <td>0.333333</td>\n",
       "      <td>-0.666667</td>\n",
       "      <td>0.333333</td>\n",
       "      <td>0.00</td>\n",
       "    </tr>\n",
       "    <tr>\n",
       "      <td>bob</td>\n",
       "      <td>2.333333</td>\n",
       "      <td>-0.666667</td>\n",
       "      <td>-1.666667</td>\n",
       "      <td>0.000000</td>\n",
       "      <td>0.00</td>\n",
       "    </tr>\n",
       "    <tr>\n",
       "      <td>charlie</td>\n",
       "      <td>1.000000</td>\n",
       "      <td>1.000000</td>\n",
       "      <td>0.000000</td>\n",
       "      <td>0.000000</td>\n",
       "      <td>-2.00</td>\n",
       "    </tr>\n",
       "    <tr>\n",
       "      <td>drake</td>\n",
       "      <td>-2.250000</td>\n",
       "      <td>0.000000</td>\n",
       "      <td>1.750000</td>\n",
       "      <td>-1.250000</td>\n",
       "      <td>1.75</td>\n",
       "    </tr>\n",
       "  </tbody>\n",
       "</table>\n",
       "</div>"
      ],
      "text/plain": [
       "            Tenet     Mulan      Soul    WW1984  InvisbleMan\n",
       "alice    0.000000  0.333333 -0.666667  0.333333         0.00\n",
       "bob      2.333333 -0.666667 -1.666667  0.000000         0.00\n",
       "charlie  1.000000  1.000000  0.000000  0.000000        -2.00\n",
       "drake   -2.250000  0.000000  1.750000 -1.250000         1.75"
      ]
     },
     "execution_count": 8,
     "metadata": {},
     "output_type": "execute_result"
    }
   ],
   "source": [
    "df"
   ]
  },
  {
   "cell_type": "code",
   "execution_count": 9,
   "metadata": {},
   "outputs": [
    {
     "data": {
      "text/html": [
       "<div>\n",
       "<style scoped>\n",
       "    .dataframe tbody tr th:only-of-type {\n",
       "        vertical-align: middle;\n",
       "    }\n",
       "\n",
       "    .dataframe tbody tr th {\n",
       "        vertical-align: top;\n",
       "    }\n",
       "\n",
       "    .dataframe thead th {\n",
       "        text-align: right;\n",
       "    }\n",
       "</style>\n",
       "<table border=\"1\" class=\"dataframe\">\n",
       "  <thead>\n",
       "    <tr style=\"text-align: right;\">\n",
       "      <th></th>\n",
       "      <th>alice</th>\n",
       "      <th>bob</th>\n",
       "      <th>charlie</th>\n",
       "      <th>drake</th>\n",
       "    </tr>\n",
       "  </thead>\n",
       "  <tbody>\n",
       "    <tr>\n",
       "      <td>alice</td>\n",
       "      <td>1.000000</td>\n",
       "      <td>0.369800</td>\n",
       "      <td>0.166667</td>\n",
       "      <td>-0.543079</td>\n",
       "    </tr>\n",
       "    <tr>\n",
       "      <td>bob</td>\n",
       "      <td>0.369800</td>\n",
       "      <td>1.000000</td>\n",
       "      <td>0.231125</td>\n",
       "      <td>-0.776897</td>\n",
       "    </tr>\n",
       "    <tr>\n",
       "      <td>charlie</td>\n",
       "      <td>0.166667</td>\n",
       "      <td>0.231125</td>\n",
       "      <td>1.000000</td>\n",
       "      <td>-0.657411</td>\n",
       "    </tr>\n",
       "    <tr>\n",
       "      <td>drake</td>\n",
       "      <td>-0.543079</td>\n",
       "      <td>-0.776897</td>\n",
       "      <td>-0.657411</td>\n",
       "      <td>1.000000</td>\n",
       "    </tr>\n",
       "  </tbody>\n",
       "</table>\n",
       "</div>"
      ],
      "text/plain": [
       "            alice       bob   charlie     drake\n",
       "alice    1.000000  0.369800  0.166667 -0.543079\n",
       "bob      0.369800  1.000000  0.231125 -0.776897\n",
       "charlie  0.166667  0.231125  1.000000 -0.657411\n",
       "drake   -0.543079 -0.776897 -0.657411  1.000000"
      ]
     },
     "execution_count": 9,
     "metadata": {},
     "output_type": "execute_result"
    }
   ],
   "source": [
    "# we'll make k the dataframe of cosine similarities between each user\n",
    "k = pd.DataFrame(cosine_similarity(df, df))\n",
    "\n",
    "#renaming index and columns\n",
    "k.index = index_names\n",
    "k.columns = index_names\n",
    "\n",
    "k"
   ]
  },
  {
   "cell_type": "markdown",
   "metadata": {},
   "source": [
    "Now we can import some visualization tools and make a heatmap to visualize the similarities between the movie reviewers.<br>The 'coolwarm' color map shows the most similar values in red (warm colors) and the least similar values in blue (cool colors)."
   ]
  },
  {
   "cell_type": "code",
   "execution_count": 10,
   "metadata": {},
   "outputs": [],
   "source": [
    "import seaborn as sns\n",
    "import matplotlib.pyplot as plt\n",
    "%matplotlib inline"
   ]
  },
  {
   "cell_type": "code",
   "execution_count": 11,
   "metadata": {},
   "outputs": [
    {
     "data": {
      "image/png": "[encoded data removed]",
      "text/plain": [
       "<Figure size 576x576 with 2 Axes>"
      ]
     },
     "metadata": {
      "needs_background": "light"
     },
     "output_type": "display_data"
    }
   ],
   "source": [
    "plt.figure(figsize = (8,8))\n",
    "ax = sns.heatmap(k, cmap = 'coolwarm', annot = True, square = True, )\n",
    "bottom, top = ax.get_ylim()\n",
    "ax.set_ylim(bottom + 0.5, top - 0.5);"
   ]
  },
  {
   "cell_type": "markdown",
   "metadata": {},
   "source": [
    "## Conclusion ## \n",
    "\n",
    "<p> Cosine Similarity is a good way to interpret similarity between vectors and uses some pretty lightweight mathematics. <br>The example of movie reviews is a fun and simple example to see Cosine Similarity in action. You can imagine how a large movie streaming service could use similar methods to identify similar users and recommend movies they might watch. </p>\n",
    "<p> The heavy-lifting required for finding similarities in data is cleaning and processing the data itself. This is the case in most areas of data science and data analytics.</p>\n",
    "<p> Cosine Similarity is by no means the only measure of similarity or distance. Hamming Distance, Sorensen-Dice coefficient, and others are other methods to guage similarity. </p>\n",
    "<p><a href=\"https://en.wikipedia.org/wiki/Cosine_similarity\" title=\"Optional Title\">Wikipedia - Cosine Similarity</a></p>"
   ]
  }
 ],
 "metadata": {
  "kernelspec": {
   "display_name": "Python 3",
   "language": "python",
   "name": "python3"
  },
  "language_info": {
   "codemirror_mode": {
    "name": "ipython",
    "version": 3
   },
   "file_extension": ".py",
   "mimetype": "text/x-python",
   "name": "python",
   "nbconvert_exporter": "python",
   "pygments_lexer": "ipython3",
   "version": "3.7.4"
  }
 },
 "nbformat": 4,
 "nbformat_minor": 2
}
